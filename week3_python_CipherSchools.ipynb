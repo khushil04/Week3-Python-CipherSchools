{
  "nbformat": 4,
  "nbformat_minor": 0,
  "metadata": {
    "colab": {
      "provenance": [],
      "authorship_tag": "ABX9TyOuC6/rZYeFPjrTjjVkPGg3",
      "include_colab_link": true
    },
    "kernelspec": {
      "name": "python3",
      "display_name": "Python 3"
    },
    "language_info": {
      "name": "python"
    }
  },
  "cells": [
    {
      "cell_type": "markdown",
      "metadata": {
        "id": "view-in-github",
        "colab_type": "text"
      },
      "source": [
        "<a href=\"https://colab.research.google.com/github/khushil04/Week3-Python-CipherSchools/blob/main/week3_python_CipherSchools.ipynb\" target=\"_parent\"><img src=\"https://colab.research.google.com/assets/colab-badge.svg\" alt=\"Open In Colab\"/></a>"
      ]
    },
    {
      "cell_type": "code",
      "execution_count": null,
      "metadata": {
        "colab": {
          "base_uri": "https://localhost:8080/"
        },
        "id": "yf8T9gr51o8e",
        "outputId": "020f541f-670e-40f2-9353-6ce2462fb381"
      },
      "outputs": [
        {
          "output_type": "stream",
          "name": "stdout",
          "text": [
            "{1: 1, 2: 8, 3: 27, 4: 64, 5: 125, 6: 216, 7: 343, 8: 512, 9: 729, 10: 1000}\n"
          ]
        }
      ],
      "source": [
        "#Lec-124:\n",
        "def cube_finder(n):\n",
        "  cubes={}\n",
        "  for i in range(1,n+1):\n",
        "    cubes[i]=i**3\n",
        "  return cubes\n",
        "print(cube_finder(10))"
      ]
    },
    {
      "cell_type": "code",
      "source": [
        "#Lec-125:\n",
        "def word_counter(s):\n",
        "  count={}\n",
        "  for char in s:\n",
        "    count[char] = s.count(char)\n",
        "    return count\n",
        "print(word_counter('khushil'))"
      ],
      "metadata": {
        "colab": {
          "base_uri": "https://localhost:8080/"
        },
        "id": "Rl1iNnPj2fp8",
        "outputId": "4f80d582-5da6-494a-8575-e3dcea90d4c4"
      },
      "execution_count": null,
      "outputs": [
        {
          "output_type": "stream",
          "name": "stdout",
          "text": [
            "{'k': 1}\n"
          ]
        }
      ]
    },
    {
      "cell_type": "code",
      "source": [
        "#Lec-127:\n",
        "name=input('what is your name: ')\n",
        "age = input('what is your age: ')\n",
        "fav_movies=input('your fav movies seprated by comma').split(',')\n",
        "fav_songs=input('your fav songs seprated by comma').split(',')\n",
        "user['name']=name\n",
        "user['age']=age\n",
        "user['fav_moves']=fav_movies\n",
        "user['fav_songs']=fav_songs\n",
        "\n",
        "for key,value in user.items():\n",
        "  print(f\"{key}:{value}\")\n"
      ],
      "metadata": {
        "id": "10uzfP2029uV"
      },
      "execution_count": null,
      "outputs": []
    },
    {
      "cell_type": "code",
      "source": [
        "#Lec-129: set data type\n",
        "s={1,2,3}\n",
        "s=(1,1.1,2.3,'string',{1:1})\n",
        "print(s[1])"
      ],
      "metadata": {
        "id": "w78QsvLr5K8G"
      },
      "execution_count": null,
      "outputs": []
    },
    {
      "cell_type": "code",
      "source": [
        "#Lec-130:\n",
        "s={'a','b','c'}\n",
        "if'a' in s:\n",
        "  print(\"present\")\n",
        "else:\n",
        "  print(\"not present\")"
      ],
      "metadata": {
        "id": "Lqs8iYyo5SK5"
      },
      "execution_count": null,
      "outputs": []
    },
    {
      "cell_type": "code",
      "source": [
        "#Lec-131:\n",
        "names=['khushil','sam','run']\n",
        "new_list=[]\n",
        "for name in names:\n",
        "  new_list.append(name[0])\n",
        "print(new_list)\n",
        "\n",
        "new_list2=[name[1] for name in names]\n",
        "print(new_list2)\n",
        "\n"
      ],
      "metadata": {
        "colab": {
          "base_uri": "https://localhost:8080/"
        },
        "id": "hTMT6Mk46TOd",
        "outputId": "d3273106-4434-46f0-9b34-12ce59a78e7e"
      },
      "execution_count": null,
      "outputs": [
        {
          "output_type": "stream",
          "name": "stdout",
          "text": [
            "['k', 's', 'r']\n",
            "['h', 'a', 'u']\n"
          ]
        }
      ]
    },
    {
      "cell_type": "code",
      "source": [
        "#Lec-134: list comprehension\n",
        "number=list(range(1,11))\n",
        "nums=[]\n",
        "for i in nums:\n",
        "  if i%2==0:\n",
        "    nums.append(i)\n",
        "print(nums)"
      ],
      "metadata": {
        "id": "ZoOxOfN37XBu"
      },
      "execution_count": null,
      "outputs": []
    },
    {
      "cell_type": "code",
      "source": [
        "#Lec-136:\n",
        "def num_to_string(l):\n",
        "  return[str(i) for i in l if (type(i)==int or type(i)==float)]\n",
        "print(num_to_string([True,False,[1,2,3],1,1.1,3]))"
      ],
      "metadata": {
        "colab": {
          "base_uri": "https://localhost:8080/"
        },
        "id": "cMbMICa08FuW",
        "outputId": "939cbb74-d18a-483e-bbf6-79218ce09cca"
      },
      "execution_count": null,
      "outputs": [
        {
          "output_type": "stream",
          "name": "stdout",
          "text": [
            "['1', '1.1', '3']\n"
          ]
        }
      ]
    },
    {
      "cell_type": "code",
      "source": [
        "#Lec-137:\n",
        "new_list=[]\n",
        "for i in nums:\n",
        "  if i%2==0:\n",
        "    new_list.append(i*2)\n",
        "  else:\n",
        "    new_list.append(-i)\n",
        "print(new_list)\n",
        "new_list2=[i*2 if(i%2==0) else-i for i in nums]\n",
        "print(new_list2)"
      ],
      "metadata": {
        "id": "1fhJQtFK9Nqm"
      },
      "execution_count": null,
      "outputs": []
    },
    {
      "cell_type": "code",
      "source": [
        "#Lec-139:\n",
        "nested_comp=[[i for i in range (1,4)] for i in range(3)]\n",
        "print(nested_comp)\n",
        "new_list=[]\n",
        "for j in range(3):\n",
        "  new_list.append([1,2,3])"
      ],
      "metadata": {
        "colab": {
          "base_uri": "https://localhost:8080/"
        },
        "id": "dJ4SMmRG9uQf",
        "outputId": "8b1001b4-0f31-41a1-c4cd-1cffd65f6f24"
      },
      "execution_count": null,
      "outputs": [
        {
          "output_type": "stream",
          "name": "stdout",
          "text": [
            "[[1, 2, 3], [1, 2, 3], [1, 2, 3]]\n"
          ]
        }
      ]
    },
    {
      "cell_type": "code",
      "source": [
        "#Lec-140:\n",
        "n1=[[1,2,3],[1,2,3],[1,2,3]]\n",
        "new_list=[[i for i in range (1,4)] for i in range(3)]\n",
        "print(new_list)\n",
        "new_list2=[]\n",
        "for j in range(3):\n",
        "  new_list2.append([1,2,3])"
      ],
      "metadata": {
        "colab": {
          "base_uri": "https://localhost:8080/"
        },
        "id": "0OL8r_Cy_yoy",
        "outputId": "dcb06842-2d69-4c35-82f6-4588372baf95"
      },
      "execution_count": null,
      "outputs": [
        {
          "output_type": "stream",
          "name": "stdout",
          "text": [
            "[[1, 2, 3], [1, 2, 3], [1, 2, 3]]\n"
          ]
        }
      ]
    },
    {
      "cell_type": "code",
      "source": [
        "#Lec-141:\n",
        "square={f\"square of {num} is \":num**2 for num in range (1,11)}\n",
        "for k,v in square.items():\n",
        "  print(f\"{k}:{v}\")"
      ],
      "metadata": {
        "id": "wu_rWiGCBShR"
      },
      "execution_count": null,
      "outputs": []
    },
    {
      "cell_type": "code",
      "source": [
        "#Lec-142:\n",
        "odd_even={i:('even' if i%2==0 else 'odd') for i in range(1,11)}\n",
        "print(odd_even)"
      ],
      "metadata": {
        "colab": {
          "base_uri": "https://localhost:8080/"
        },
        "id": "wL-G5XsNB1ih",
        "outputId": "1a49b49b-9fd3-4f48-ff5e-a0dd094ae3e1"
      },
      "execution_count": null,
      "outputs": [
        {
          "output_type": "stream",
          "name": "stdout",
          "text": [
            "{1: 'odd', 2: 'even', 3: 'odd', 4: 'even', 5: 'odd', 6: 'even', 7: 'odd', 8: 'even', 9: 'odd', 10: 'even'}\n"
          ]
        }
      ]
    },
    {
      "cell_type": "code",
      "source": [
        "#Lec-143: # sets comprehension -----> only one video\n",
        "s = {k**2 for k in range(1,11)}\n",
        "print(s)\n",
        "\n",
        "names = ['Uttam', 'robo1', 'robo2']\n",
        "first = {name[0] for name in names}\n",
        "print(first)"
      ],
      "metadata": {
        "id": "i-GcHhRCLGtN"
      },
      "execution_count": null,
      "outputs": []
    },
    {
      "cell_type": "code",
      "source": [
        "#Lec-144:\n",
        "# *args with normal parameter\n",
        "\n",
        "def multiply_nums(num,*args):\n",
        "    multiply = 1\n",
        "    # print(num)\n",
        "    print(args)\n",
        "    for i in args:\n",
        "        multiply *= i\n",
        "    return multiply\n",
        "\n",
        "print(multiply_nums(2,4,3,4))"
      ],
      "metadata": {
        "id": "CI36jZkGLRHn"
      },
      "execution_count": null,
      "outputs": []
    },
    {
      "cell_type": "code",
      "source": [
        "#Lec-145:\n",
        "def multiply_nums(*args):\n",
        "    multiply = 1\n",
        "    print(args) # ([2,3,4])\n",
        "    for i in args:\n",
        "        multiply *= i\n",
        "    return multiply\n",
        "\n",
        "nums = (2,3,4)\n",
        "print(multiply_nums(*nums)) #unpack"
      ],
      "metadata": {
        "id": "wkR3-TxnLbcX"
      },
      "execution_count": null,
      "outputs": []
    },
    {
      "cell_type": "code",
      "source": [
        "#LEc-146:\n",
        "def to_power(num, *args):\n",
        "    if args:\n",
        "        return [i**num for i in args]\n",
        "    else:\n",
        "        return \"You didn't pass any args\"\n",
        "\n",
        "nums = [1,2,3]\n",
        "print(to_power(3,*nums))\n",
        "\n"
      ],
      "metadata": {
        "id": "n5VcCz_9LlAY"
      },
      "execution_count": null,
      "outputs": []
    },
    {
      "cell_type": "code",
      "source": [
        "#Lec-148\n",
        "# kwargs (keyword arguments)\n",
        "# **kwargs (double star operator)\n",
        "\n",
        "# kwargs as a parameter\n",
        "def func(**kwargs):\n",
        "    for k,v in kwargs.items():\n",
        "        print(f'{k} : {v}')\n",
        "\n",
        "# dictionary unpacking\n",
        "d= {'name':'Uttam', 'age':24}\n",
        "func(**d)"
      ],
      "metadata": {
        "id": "JoweI0QTLtOn"
      },
      "execution_count": null,
      "outputs": []
    },
    {
      "cell_type": "code",
      "source": [
        "#Lec-149:\n",
        "# functions with all parameters\n",
        "# very important to understand\n",
        "\n",
        "# PADK\n",
        "\n",
        "# parameters\n",
        "# *args\n",
        "# default parameters\n",
        "# **kwargs\n",
        "\n",
        "def func(name, *args, last_name = 'unknown', **kwargs):\n",
        "    print(name)\n",
        "    print(args)\n",
        "    print(last_name)\n",
        "    print(kwargs)\n",
        "\n",
        "func('Uttam', 1,2,3, a=1, b=2)"
      ],
      "metadata": {
        "id": "RecWE4ouL9Qk"
      },
      "execution_count": null,
      "outputs": []
    },
    {
      "cell_type": "code",
      "source": [
        "Lec-150:\n",
        "# function \n",
        "# list , reverse_str = True\n",
        "# list\n",
        "\n",
        "def func(l, **kwargs):\n",
        "    if kwargs.get('reverse_str') == True:\n",
        "        return [name[::-1].title() for name in l]\n",
        "    else:\n",
        "        return [name.title() for name in l]\n",
        "\n",
        "\n",
        "names = ['ritika', 'robo1']\n",
        "print(func(names, reverse_str = True))"
      ],
      "metadata": {
        "id": "nE-fMnhQMNR9"
      },
      "execution_count": null,
      "outputs": []
    },
    {
      "cell_type": "code",
      "source": [
        "\n",
        "#lec-153:\n",
        "def new_add(*args):\n",
        "    # 1,2,3,4\n",
        "    # (1,2,3,4)\n",
        "    total = 0\n",
        "    for num in args:\n",
        "        total+= num\n",
        "    return total\n",
        "\n",
        "\n",
        "# print(new_add(1,2,3))\n",
        "\n",
        "# l=(1,2,3,4)\n",
        "# print(new_add(*l))\n",
        "\n",
        "# kwargs - keyword arguments , **\n",
        "# def func(**kwargs):\n",
        "    # print(kwargs) #gather as dictionary\n",
        "    # print(type(kwargs))\n",
        "\n",
        "# func(name = 'pallavi', age = 24)\n",
        "\n",
        "# kwargs , args , normal, default\n",
        "# PADK - parameter , args , default , kwargs\n",
        "\n",
        "def func2(name, *args, last_name = 'unknown', **kwargs):\n",
        "    print(name)\n",
        "    print(args)\n",
        "    print(last_name)\n",
        "    print(kwargs)\n",
        "\n",
        "func2('ritika', 1,2,3, a=1, b=2)"
      ],
      "metadata": {
        "id": "doyHZNFYMWN6"
      },
      "execution_count": null,
      "outputs": []
    },
    {
      "cell_type": "code",
      "source": [
        "#Lec154:\n",
        "# lambda expression practice\n",
        "# def is_even(a):\n",
        "#     return a%2==0 #a%2 ==0 -----> true, false\n",
        "\n",
        "# print(is_even(5))\n",
        "\n",
        "# iseven2 = lambda a : a%2==0\n",
        "# print(iseven2(6))\n",
        "\n",
        "# def last_char(s):\n",
        "#     return s[-1]\n",
        "\n",
        "# last_char = lambda s : s[-1]\n",
        "# print(last_char('Uttam'))\n",
        "\n",
        "# lambda with if , else\n",
        "def func(s):\n",
        "    return len(s)>5\n",
        "\n",
        "\n",
        "func = lambda s : len(s) > 5\n",
        "print(func('abcdefg'))"
      ],
      "metadata": {
        "id": "c9SYjeIvMmva"
      },
      "execution_count": null,
      "outputs": []
    },
    {
      "cell_type": "code",
      "source": [
        "#Lec155:\n",
        "# we use enumerate function with for loop to track position of our\n",
        "# item in iterable\n",
        "\n",
        "\n",
        "# How we can do this without enumerate function\n",
        "names = ['abc', 'abcdef', 'aayush']\n",
        "# # 0 -- 'abc'\n",
        "# # 1 -- 'abcdef'\n",
        "# pos = 0\n",
        "# for name in names:\n",
        "#     print(f\"{pos} ---> {name}\")\n",
        "#     pos+=1\n",
        "\n",
        "\n",
        "# with enumerate function\n",
        "\n",
        "# for pos,name in enumerate(names):\n",
        "    # print(f\"{pos} ---> {name}\")\n",
        "\n",
        "\n",
        "\n",
        "\n",
        "# Define a function that take two arguments\n",
        "# 1.) list containing string\n",
        "# 2.) string that want to find in your list\n",
        "# and this function will return the index of string in your list and\n",
        "# if string is not present then return -1\n",
        "\n",
        "def find_pos(l, target):\n",
        "    for pos, name in enumerate(l):\n",
        "        if name== target:\n",
        "            return pos\n",
        "    return -1\n",
        "\n",
        "print(find_pos(names, 'Uttam'))"
      ],
      "metadata": {
        "id": "NKseIXY5MwFq"
      },
      "execution_count": null,
      "outputs": []
    },
    {
      "cell_type": "code",
      "source": [
        "#Lec-156:\n",
        "# map function\n",
        "\n",
        "numbers = [1,2,3,4]\n",
        "\n",
        "def square(a):\n",
        "    return a**2\n",
        "\n",
        "squares = list(map(lambda a:a**2, numbers))\n",
        "print(squares)\n",
        "\n",
        "# list comp\n",
        "squares_new = [i**2 for i in numbers]\n",
        "print(squares_new)\n",
        "\n",
        "new_list = []\n",
        "for num in numbers:\n",
        "    new_list.append(square(num))\n",
        "\n",
        "print(new_list)\n",
        "\n",
        "names = ['abc', 'abcd', 'abcde']\n",
        "length = list(map(len,names))\n",
        "\n",
        "print(length)"
      ],
      "metadata": {
        "id": "cc1TZhVSM9SN"
      },
      "execution_count": null,
      "outputs": []
    },
    {
      "cell_type": "code",
      "source": [
        "#Lec-157\n",
        "# filter function\n",
        "\n",
        "def is_even(a):\n",
        "    return a%2==0\n",
        "\n",
        "numbers = [3,4,2,1,5,6,9,8,10]\n",
        "\n",
        "evens = filter(lambda a:a%2==0, numbers)\n",
        "\n",
        "new_even = [i for i in numbers if i%2==0]\n",
        "\n",
        "print(list(evens))\n",
        "print(new_even)\n",
        "Footer\n",
        "© 2022 GitHub, Inc.\n",
        "Footer navigation\n",
        "Terms"
      ],
      "metadata": {
        "id": "Prx9VHOdNLmz"
      },
      "execution_count": null,
      "outputs": []
    },
    {
      "cell_type": "code",
      "source": [
        "#Lec-158:\n",
        "# iterator vs iterables\n",
        "\n",
        "numbers = [1,2,3,4] #, tuples, strings --- iterables\n",
        "squares = map(lambda a:a**2, numbers) # iterator\n",
        "\n",
        "print(next(numbers))"
      ],
      "metadata": {
        "id": "8dBA3eILNVwg"
      },
      "execution_count": null,
      "outputs": []
    },
    {
      "cell_type": "code",
      "source": [
        "#Lec-159:\n",
        "l1 =[1,3,5,7]\n",
        "l2 =[2,4,6,8]\n",
        "new_list = []\n",
        "\n",
        "# l =[(1,2), (3,4), (5,6), (7,8)]\n",
        "# *operator with zip\n",
        "\n",
        "# l1, l2 = list(zip(*l))\n",
        "# print(list(l1))\n",
        "# print(list(l2))\n",
        "for pair in zip(l1,l2):\n",
        "    new_list.append(max(pair))\n",
        "\n",
        "print(new_list)"
      ],
      "metadata": {
        "id": "Xzf9xnGGNV58"
      },
      "execution_count": null,
      "outputs": []
    },
    {
      "cell_type": "code",
      "source": [
        "#Lec=160\n",
        "# THIS IS CHALLENGE\n",
        "\n",
        "# define a function take any no of lists containing number\n",
        "# [1,2,3] , [4,5,6], [7,8,9]\n",
        "# return average\n",
        "# (1+4+7)/3 ,(2,5,8)/3, (3,6,9)/3  \n",
        "\n",
        "\n",
        "# try to make this anonymous function in one line using lambda\n",
        "# def average_finder(l1,l2):\n",
        "#     average = []\n",
        "#     for pair in zip(l1,l2):\n",
        "#         average.append(sum(pair)/len(pair))\n",
        "#     return average\n",
        "\n",
        "average_finder = lambda *args: [(sum(pair)/len(pair)) for pair in zip(*args)]\n",
        "\n",
        "print(average_finder([1,2,3] , [4,5,6], [7,8,9]))"
      ],
      "metadata": {
        "id": "b17iPc1KNrc5"
      },
      "execution_count": null,
      "outputs": []
    },
    {
      "cell_type": "code",
      "source": [
        "#Lec-161:\n",
        "# THIS IS CHALLENGE\n",
        "\n",
        "# define a function take any no of lists containing number\n",
        "# [1,2,3] , [4,5,6], [7,8,9]\n",
        "# return average\n",
        "# (1+4+7)/3 ,(2,5,8)/3, (3,6,9)/3  \n",
        "\n",
        "\n",
        "# try to make this anonymous function in one line using lambda\n",
        "# def average_finder(l1,l2):\n",
        "#     average = []\n",
        "#     for pair in zip(l1,l2):\n",
        "#         average.append(sum(pair)/len(pair))\n",
        "#     return average\n",
        "\n",
        "average_finder = lambda *args: [(sum(pair)/len(pair)) for pair in zip(*args)]\n",
        "\n",
        "print(average_finder([1,2,3] , [4,5,6], [7,8,9]))"
      ],
      "metadata": {
        "id": "3hERqD9BN6b1"
      },
      "execution_count": null,
      "outputs": []
    },
    {
      "cell_type": "code",
      "source": [
        "Lec-163:\n",
        "# any all function\n",
        "\n",
        "def my_sum(*args):\n",
        "    # args =()\n",
        "    if all([(type(arg)==int or type(arg)== float) for arg in args]):\n",
        "        total = 0\n",
        "        for num in args:\n",
        "            total += num\n",
        "        return total\n",
        "    else:\n",
        "        return \"Wrong input\"\n",
        "\n",
        "print(my_sum(1,2,3,4,8.9))"
      ],
      "metadata": {
        "id": "_Qwq1D_iOIDF"
      },
      "execution_count": null,
      "outputs": []
    },
    {
      "cell_type": "code",
      "source": [
        "#Lec-165:\n",
        "fruits = ['grapes', 'mango', 'apple']\n",
        "# sort\n",
        "# fruits.sort()\n",
        "# print(fruits)\n",
        "\n",
        "fruits2 = ('grapes', 'mango', 'apple')\n",
        "# print(sorted(fruits))\n",
        "\n",
        "\n",
        "fruits3 = {'grapes', 'mango', 'apple'}\n",
        "print(sorted(fruits))\n",
        "\n",
        "\n",
        "\n",
        "guitars = [\n",
        "    {'model': 'yamaha f310','price':8400},\n",
        "    {'model': 'faith naptune','price':50000},\n",
        "    {'model': 'faith apollo venus','price':35000},\n",
        "    {'model': 'taylor 814ce','price':450000}\n",
        "]\n",
        "\n",
        "sorted_guitars = sorted(guitars, key = lambda d:d['price'], reverse = True)\n",
        "print(sorted_guitars)"
      ],
      "metadata": {
        "id": "Lseu1lSWOUdm"
      },
      "execution_count": null,
      "outputs": []
    },
    {
      "cell_type": "code",
      "source": [
        "#Lec-166\n",
        "# what are doc strings\n",
        "# how to write docstring\n",
        "# how to see docstring\n",
        "# what is help function\n",
        "\n",
        "def add(a,b):\n",
        "    ''' this function takes 2 numbers and return their sum'''\n",
        "    return a+b\n",
        "\n",
        "# print(add.__doc__)\n",
        "\n",
        "# len , sum , max , min , sorted\n",
        "# print(len.__doc__)\n",
        "\n",
        "# print(sum.__doc__)\n",
        "# sum\n",
        "print(help(sum))"
      ],
      "metadata": {
        "id": "-AaDG2BVOftG"
      },
      "execution_count": null,
      "outputs": []
    },
    {
      "cell_type": "code",
      "source": [
        "#Lec-168\n",
        "# map\n",
        "def square(a):\n",
        "    return a**2\n",
        "\n",
        "l = [1,2,3,4]\n",
        "# print(list(map(lambda a: a**2,l)))\n",
        "\n",
        "def my_map(func, l):\n",
        "    new_list = []\n",
        "    for item in l:\n",
        "        new_list.append(func(item))\n",
        "    return new_list  \n",
        "\n",
        "def my_map2(func, l):\n",
        "    return [func(item) for item in l] \n",
        "\n",
        "print(my_map2(lambda a : a**3,l))"
      ],
      "metadata": {
        "id": "CgaaA0ekOpAS"
      },
      "execution_count": null,
      "outputs": []
    },
    {
      "cell_type": "code",
      "source": [
        "#lec-170:\n",
        "# function returning function (closure) practice\n",
        "\n",
        "def to_power(x): # x = 3\n",
        "    def calc_power(n): # n =2\n",
        "        return n**x\n",
        "    return calc_power\n",
        "\n",
        "cube = to_power(3)\n",
        "print(cube(2))\n",
        "\n",
        "square = to_power(2)\n",
        "print(square(4))"
      ],
      "metadata": {
        "id": "aPIBA8MzOygN"
      },
      "execution_count": null,
      "outputs": []
    },
    {
      "cell_type": "code",
      "source": [
        "#Lec 171\n",
        "# Decorators - enhance the functionality of other functions\n",
        "# @ use for decorator\n",
        "\n",
        "def decorator_function(any_function):\n",
        "    def wrapper_function():\n",
        "        print('this is awesome function')\n",
        "        any_function()\n",
        "    return wrapper_function\n",
        "\n",
        "# this is awesome function\n",
        "\n",
        "@decorator_function #shortcut\n",
        "def func1():\n",
        "    print('this is function 1')\n",
        "\n",
        "func1()\n",
        "\n",
        "@decorator_function\n",
        "def func2():\n",
        "    print('this is function 2')\n",
        "\n",
        "func2()\n",
        "\n",
        "# func1 = decorator_function(func1)\n",
        "# func1()"
      ],
      "metadata": {
        "id": "oo_sTUkpPAvn"
      },
      "execution_count": null,
      "outputs": []
    },
    {
      "cell_type": "code",
      "source": [
        "#Lec-184\n",
        "import time\n",
        "# list vs generator\n",
        "# memory usage , time\n",
        "# when to use list , when to use generator\n",
        "\n",
        "# t1 = time.time()\n",
        "# l = [i**2 for i in range(10000000)] #10million\n",
        "# print(time.time() - t1)\n",
        "\n",
        "t1 = time.time()\n",
        "g = (i**2 for i in range(10000000)) #10million\n",
        "print(time.time() - t1)\n"
      ],
      "metadata": {
        "id": "0PDbtB_uPPNJ"
      },
      "execution_count": null,
      "outputs": []
    },
    {
      "cell_type": "code",
      "source": [
        "#Lec-186 opps\n",
        "# OBJECTIVES\n",
        "# WHAT IS CLASS\n",
        "# HOW TO CREATE AN CLASS\n",
        "# WHAT IS INIT METHOD , CONSTRUCTOR\n",
        "# WHAT ARE THE ATTRIBUTES , INSTANCE VARIABLES\n",
        "# HOW TO CREATE OUR OBJECT\n",
        "\n",
        "class Person:\n",
        "    def __init__(self, first_name, last_name, age):\n",
        "        # instance variables\n",
        "        print('init method called')\n",
        "        self.person_first_name = first_name\n",
        "        self.last_name = last_name\n",
        "        self.age = age\n",
        "\n",
        "p1 = Person('Uttam','aggarwal',24)\n",
        "p2 = Person('Mohit', 'aggarwal', 19)\n",
        "\n",
        "print(p1.person_first_name)\n",
        "print(p2.person_first_name)"
      ],
      "metadata": {
        "id": "rBrT5ie7PbQG"
      },
      "execution_count": null,
      "outputs": []
    },
    {
      "cell_type": "code",
      "source": [
        "#Lec-187\n",
        "class Laptop:\n",
        "    def __init__(self, brand, model_name, price):\n",
        "        #instance variables\n",
        "        self.brand = brand\n",
        "        self.name = model_name\n",
        "        self.price = price\n",
        "        self.laptop_name = brand + \" \" + model_name\n",
        "\n",
        "\n",
        "laptop1 = Laptop('hp', 'au114tx', 63000)\n",
        "print(laptop1.laptop_name)"
      ],
      "metadata": {
        "id": "-rXXkENePlgH"
      },
      "execution_count": null,
      "outputs": []
    },
    {
      "cell_type": "code",
      "source": [
        "#Lec-189\n",
        "# instance methods\n",
        "class Person:\n",
        "    def __init__(self, first_name, last_name, age):\n",
        "        self.first_name = first_name\n",
        "        self.last_name = last_name\n",
        "        self.age = age\n",
        "\n",
        "    def full_name(self):\n",
        "        return f\"{self.full_name} {self.last_name}\"\n",
        "\n",
        "    def is_above_18(self):\n",
        "        return self.age>18\n",
        "\n",
        "p1 = Person('Uttam','aggarwal',24)\n",
        "p2 = Person('Mohit', 'aggarwal', 19)\n",
        "print(p1.is_above_18())\n",
        "# print(p2.full_name())\n",
        "\n",
        "# l = [1,2,3]\n",
        "# clear , pop \n",
        "# l.clear()\n",
        "# list.clear(l)\n",
        "# print(l)\n",
        "# list.append(l,10)\n",
        "# print(l)"
      ],
      "metadata": {
        "id": "Pf2kYIdLP3rM"
      },
      "execution_count": null,
      "outputs": []
    },
    {
      "cell_type": "code",
      "source": [
        "#Lec-190\n",
        "class Laptop:\n",
        "    def __init__(self, brand, model_name, price):\n",
        "        #instance variables\n",
        "        self.brand = brand\n",
        "        self.name = model_name\n",
        "        self.price = price\n",
        "        self.laptop_name = brand + \" \" + model_name\n",
        "    \n",
        "    def apply_discount(self,num):\n",
        "        # self.price\n",
        "        off_price = (num/100)*self.price\n",
        "        return self.price - off_price\n",
        "\n",
        "\n",
        "\n",
        "laptop1 = Laptop('hp', 'au114tx', 63000)\n",
        "laptop2 = Laptop('apple', 'mackbook pro', 230000)\n",
        "print(laptop2.apply_discount(5))"
      ],
      "metadata": {
        "id": "GyySdYOeP_sK"
      },
      "execution_count": null,
      "outputs": []
    },
    {
      "cell_type": "code",
      "source": [
        "#Lec-196\n",
        "# class methods\n",
        "# difference between claass methods and instance methods\n",
        "\n",
        "class Person:\n",
        "    count_instance = 0 # class variable / class attribute\n",
        "    def __init__(self, first_name, last_name, age):\n",
        "        Person.count_instance += 1\n",
        "        self.first_name = first_name\n",
        "        self.last_name = last_name\n",
        "        self.age = age\n",
        "\n",
        "    @classmethod\n",
        "    def count_instances(cls):\n",
        "        return f\"You have created {cls.count_instance} instances of {cls.__name__} class\"\n",
        "\n",
        "    def full_name(self):\n",
        "        return f\"{self.full_name} {self.last_name}\"\n",
        "\n",
        "    def is_above_18(self):\n",
        "        return self.age>18\n",
        "\n",
        "p1 = Person('Uttam','aggarwal',10)\n",
        "p2 = Person('Harsh', 'aggarwal', 24)\n",
        "print(Person.count_instances())"
      ],
      "metadata": {
        "id": "E1R51hHoQIcm"
      },
      "execution_count": null,
      "outputs": []
    },
    {
      "cell_type": "code",
      "source": [
        "#Lec-197\n",
        "# class method as a constructor\n",
        "class Person:\n",
        "    count_instance = 0 # class variable / class attribute\n",
        "    def __init__(self, first_name, last_name, age):\n",
        "        Person.count_instance += 1\n",
        "        self.first_name = first_name\n",
        "        self.last_name = last_name\n",
        "        self.age = age\n",
        "\n",
        "    @classmethod\n",
        "    def from_string(cls,string):\n",
        "        first,last,age = string.split(',')\n",
        "        return cls(first,last,age)\n",
        "\n",
        "    @classmethod\n",
        "    def count_instances(cls):\n",
        "        return f\"You have created {cls.count_instance} instances of {cls.__name__} class\"\n",
        "\n",
        "    def full_name(self):\n",
        "        return f\"{self.full_name} {self.last_name}\"\n",
        "\n",
        "    def is_above_18(self):\n",
        "        return self.age>18\n",
        "\n",
        "\n",
        "\n",
        "p1 = Person('Uttam','aggarwal',10)\n",
        "p2 = Person('Harsh', 'aggarwal', 24)\n",
        "\n",
        "p3 = Person.from_string('Uttam,vashisth,24')\n",
        "print(p3.full_name())"
      ],
      "metadata": {
        "id": "re3W7K6IQRCA"
      },
      "execution_count": null,
      "outputs": []
    },
    {
      "cell_type": "code",
      "source": [
        "#Lec-198\n",
        "# class method as a constructor\n",
        "class Person:\n",
        "    count_instance = 0 # class variable / class attribute\n",
        "    def __init__(self, first_name, last_name, age):\n",
        "        Person.count_instance += 1\n",
        "        self.first_name = first_name\n",
        "        self.last_name = last_name\n",
        "        self.age = age\n",
        "\n",
        "    @classmethod\n",
        "    def from_string(cls,string):\n",
        "        first,last,age = string.split(',')\n",
        "        return cls(first,last,age)\n",
        "\n",
        "    @classmethod\n",
        "    def count_instances(cls):\n",
        "        return f\"You have created {cls.count_instance} instances of {cls.__name__} class\"\n",
        "\n",
        "    @staticmethod\n",
        "    def hello():\n",
        "        print('hello, static method is called')\n",
        "\n",
        "    def full_name(self):\n",
        "        return f\"{self.full_name} {self.last_name}\"\n",
        "\n",
        "    def is_above_18(self):\n",
        "        return self.age>18\n",
        "\n",
        "\n",
        "\n",
        "p1 = Person('Uttam','aggarwal',10)\n",
        "p2 = Person('Harsh', 'aggarwal', 24)\n",
        "\n",
        "p3 = Person.from_string('Uttam,vashisth,24')"
      ],
      "metadata": {
        "id": "CY1Lh2tgQebX"
      },
      "execution_count": null,
      "outputs": []
    },
    {
      "cell_type": "code",
      "source": [
        "#Lec-199\n",
        "# In this video we will talk about\n",
        "# Encapsulation\n",
        "# Abtraction\n",
        "# Some special naming convention\n",
        "# Name Mangling, __name (not a covenntion)\n",
        "\n",
        "\n",
        "class Phone:\n",
        "    def __init__(self, brand,model_name, price):\n",
        "        self.brand = brand\n",
        "        self.model_name = model_name\n",
        "        self.__price = price\n",
        "\n",
        "    def make_a_call(self, phone_number):\n",
        "        print(f\"callinfg {phone_number} .....\")\n",
        "\n",
        "    def full_name(self):\n",
        "        return f\"{self.brand} {self.model_name}\"\n",
        "\n",
        "    def send_message(self):\n",
        "        pass # twilio\n",
        "\n",
        "phone1 = Phone('nokia','1100',1000)\n",
        "# print(phone1.__price)\n",
        "print(phone1._Phone__price)\n",
        "print(phone1.__dict__)\n",
        "\n",
        "\n",
        "# phone1._price = -1000\n",
        "# print(phone1._price)\n",
        "\n",
        "# _name # convention of private name\n",
        "# __name__ # dunder/magic methods"
      ],
      "metadata": {
        "id": "hEMBHExiQpTE"
      },
      "execution_count": null,
      "outputs": []
    },
    {
      "cell_type": "code",
      "source": [
        "#Lec-200\n",
        "# will discuss three problems in existing\n",
        "# the we will solve them using getter , setter decorator \n",
        "\n",
        "\n",
        "class Phone:\n",
        "    def __init__(self, brand,model_name, price):\n",
        "        self.brand = brand\n",
        "        self.model_name = model_name\n",
        "        # self._price = max(price,0)\n",
        "        # if price > 0:\n",
        "        #     self._price = price\n",
        "        # else:\n",
        "        #     self._price = 0\n",
        "        # self.complete_specification = f\"{self.brand} {self.model_name} and price is {self._price} \"\n",
        "\n",
        "    @property \n",
        "    def complete_specification(self):\n",
        "        return f\"{self.brand} {self.model_name} and price is {self._price}\"\n",
        "\n",
        "    @property\n",
        "    def price(self):\n",
        "        return self._price\n",
        "\n",
        "    @price.setter\n",
        "    def price(self,new_price):\n",
        "        self._price = max(new_price,0)\n",
        "\n",
        "    def make_a_call(self, phone_number):\n",
        "        print(f\"callinfg {phone_number} .....\")\n",
        "\n",
        "    def full_name(self):\n",
        "        return f\"{self.brand} {self.model_name}\"\n",
        "\n",
        "phone1 = Phone('Nokia','1100',1000)\n",
        "\n",
        "phone1._price = -500\n",
        "print(phone1.brand)\n",
        "print(phone1.model_name)\n",
        "print(phone1.price)\n",
        "print(phone1.complete_specification)"
      ],
      "metadata": {
        "id": "zf12wbJ7Qxh3"
      },
      "execution_count": null,
      "outputs": []
    },
    {
      "cell_type": "code",
      "source": [
        "#Lec-201\n",
        "class Phone: # base class / parent class\n",
        "    def __init__(self, brand,model_name, price):\n",
        "        self.brand = brand\n",
        "        self.model_name = model_name\n",
        "        self._price = max(price,0)\n",
        "\n",
        "    def full_name(self):\n",
        "        return f\"{self.brand} {self.model_name}\"\n",
        "\n",
        "    def make_a_call(self, number):\n",
        "        print(f\"calling {number} .....\")\n",
        "\n",
        "\n",
        "class Smartphone(Phone): # derived / child class\n",
        "    def __init__(self, brand,model_name, price,ram,internal_memory,rear_camera):\n",
        "        # two ways\n",
        "        # Phone.__init__(self,brand,model_name,price) uncommon way\n",
        "        super().__init__(brand,model_name,price)\n",
        "        self.ram = ram\n",
        "        self.internal_memory = internal_memory\n",
        "        self.rear_camera = rear_camera\n",
        "\n",
        "phone = Phone('nokia', '1100', 1000)\n",
        "smartphone = Smartphone('onePlus','5',30000,'6 GB','64GB','20MP')\n",
        "print(phone.full_name())\n",
        "print(smartphone.full_name() + f\"and price is {smartphone._price}\")"
      ],
      "metadata": {
        "id": "IyjqNtLdQ5SZ"
      },
      "execution_count": null,
      "outputs": []
    },
    {
      "cell_type": "code",
      "source": [
        "#Lec-202\n",
        "# can we derive more than one class from base class ?\n",
        "# multilevel inheritance\n",
        "# method resolution order\n",
        "# method overriding\n",
        "# isinstance(), issubclass()\n",
        "\n",
        "\n",
        "class Phone: # base class / parent class\n",
        "    def __init__(self, brand,model_name, price):\n",
        "        self.brand = brand\n",
        "        self.model_name = model_name\n",
        "        self._price = max(price,0)\n",
        "\n",
        "    def full_name(self):\n",
        "        return f\"{self.brand} {self.model_name}\"\n",
        "\n",
        "    def make_a_call(self, number):\n",
        "        print(f\"calling {number} .....\")\n",
        "\n",
        "\n",
        "class Smartphone(Phone): # derived / child class\n",
        "    def __init__(self, brand,model_name, price,ram,internal_memory,rear_camera):\n",
        "        # two ways\n",
        "        # Phone.__init__(self,brand,model_name,price) uncommon way\n",
        "        super().__init__(brand,model_name,price)\n",
        "        self.ram = ram\n",
        "        self.internal_memory = internal_memory\n",
        "        self.rear_camera = rear_camera\n",
        "\n",
        "    def full_name(self):\n",
        "        return f\"{self.brand} {self.model_name} and price is {self._price}\"\n",
        "\n",
        "class FlagshipPhone(Smartphone):\n",
        "    def __init__(self, brand,model_name, price,ram,internal_memory,rear_camera,front_camera):\n",
        "        super().__init__(brand,model_name, price,ram,internal_memory,rear_camera)\n",
        "        self.front_camera = front_camera\n",
        "\n",
        "    def full_name(self):\n",
        "        return f\"{self.brand} {self.model_name} and price is {self._price} and front_camera = {self.rear_camera}\"\n",
        "\n",
        "\n",
        "\n",
        "\n",
        "\n",
        "# phone = Phone('nokia', '1100', 1000)\n",
        "# smartphone = Smartphone('onePlus','5',30000,'6 GB','64GB','20MP')\n",
        "oneplus5 = Smartphone('onePlus','5',30000,'6 GB','64GB','20MP')\n",
        "oneplus5t = FlagshipPhone('onePlus','5',30000,'6 GB','64GB','20MP','16MP')\n",
        "# print(oneplus.full_name())\n",
        "# print(smartphone.full_name() + f\"and price is {smartphone._price}\")\n",
        "# print(help(FlagshipPhone))\n",
        "# print(FlagshipPhone.full_name())\n",
        "\n",
        "# isinstance\n",
        "# print(isinstance(oneplus5, FlagshipPhone))\n",
        "# print(isinstance(oneplus5t, Phone))\n",
        "\n",
        "print(issubclass(FlagshipPhone,Smartphone))"
      ],
      "metadata": {
        "id": "SpfNJ3XnRElZ"
      },
      "execution_count": null,
      "outputs": []
    },
    {
      "cell_type": "code",
      "source": [
        "#Lec-203\n",
        "# Multiple Inheritance\n",
        "\n",
        "class A:\n",
        "\n",
        "    def class_a_methods(self):\n",
        "        return 'I\\'m just a class A method'\n",
        "\n",
        "    def hello(self):\n",
        "        return 'hello from class A'\n",
        "\n",
        "class B:\n",
        "\n",
        "    def class_a_methods(self):\n",
        "        return 'I\\'m just a class B method'\n",
        "\n",
        "    def hello(self):\n",
        "        return 'hello from class B'\n",
        "\n",
        "class C(A,B):\n",
        "    pass\n",
        "\n",
        "instance_c = C()\n",
        "# print(instance_c.class_a_methods())\n",
        "# print(instance_c.class_b_methods())\n",
        "# print(instance_c.hello())\n",
        "# print(help(C))\n",
        "# print(C.mro())\n",
        "print(C.__mro__)"
      ],
      "metadata": {
        "id": "-7iJV0B4Rb0J"
      },
      "execution_count": null,
      "outputs": []
    }
  ]
}